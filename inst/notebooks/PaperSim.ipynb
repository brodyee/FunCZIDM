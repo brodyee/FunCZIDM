{
 "cells": [
  {
   "cell_type": "markdown",
   "metadata": {},
   "source": [
    "# Imports"
   ]
  },
  {
   "cell_type": "code",
   "execution_count": 1,
   "metadata": {},
   "outputs": [],
   "source": [
    "import os\n",
    "import numpy as np\n",
    "import pandas as pd\n",
    "import matplotlib.pyplot as plt\n",
    "import seaborn as sns\n",
    "import glob"
   ]
  },
  {
   "cell_type": "markdown",
   "metadata": {},
   "source": [
    "# Read Data and Process"
   ]
  },
  {
   "cell_type": "code",
   "execution_count": 2,
   "metadata": {},
   "outputs": [],
   "source": [
    "seeds = np.array([85744, 39350, 62007, 27231, 17228, 23170, 28217, 21995, 92637, 33582, 82945, 97198, 21490, 65985, 13704,\n",
    "                  51186, 92608, 19003, 57905, 71554, 13601, 22752, 83194, 63649, 52799, 33528, 18501, 99162, 93396, 12349,\n",
    "                  39975, 94940, 66026, 99507, 87312, 10869, 76079, 87705, 42204, 82733, 24992, 60546, 32898, 87808, 68099,\n",
    "                  82185, 49493, 33261, 59667, 54386, 69836, 36964, 62281, 78712, 61596, 45089, 66142, 92100, 95047, 18342,\n",
    "                  97134, 76054, 59190, 16956, 52012, 97448, 72537, 74642, 64659, 74339, 89717, 90645, 55079, 84367, 59699,\n",
    "                  46207, 20271, 17741, 29556, 59305, 83988, 97163, 44867, 64963, 36372, 34887, 66534, 27667, 11008, 60419,\n",
    "                  60361, 72188, 53605, 96824, 33170, 23939, 69498, 71559, 15470, 58697])"
   ]
  },
  {
   "cell_type": "code",
   "execution_count": 3,
   "metadata": {},
   "outputs": [],
   "source": [
    "def getReason(seed, path):\n",
    "    seedIdx = np.where(seeds == int(seed))[0][0]\n",
    "    pattern = path+\"error_\" + str(seedIdx) + \".err\"\n",
    "    timeString = \"DUE TO TIME LIMIT ***\"\n",
    "    memString = \"OOM Killed.\"\n",
    "    try:\n",
    "        filePath = glob.glob(pattern)[0]\n",
    "    except:\n",
    "        print(\"No error file\")\n",
    "        return\n",
    "    \n",
    "    with open(filePath, 'r', encoding='utf-8', errors='ignore') as f:\n",
    "        content = f.read()\n",
    "    \n",
    "    if timeString in content:\n",
    "        print(seed, \"stopped due to time limit\")\n",
    "    elif memString in content:\n",
    "        print(seed, \"stopped due to mem limit\")\n",
    "    else:\n",
    "        print(\"Non-time or mem issue\")"
   ]
  },
  {
   "cell_type": "code",
   "execution_count": 4,
   "metadata": {},
   "outputs": [],
   "source": [
    "def getIndividualRACaptRate(seed, path):\n",
    "    filePath = path + seed + \"/output\" + seed + \".csv\"\n",
    "    captRates = []\n",
    "\n",
    "    eof = False\n",
    "    with open(filePath, 'r', encoding='utf-8', errors='ignore') as f:\n",
    "        while not eof:\n",
    "            line = f.readline()\n",
    "            \n",
    "            if not line:\n",
    "                eof = True\n",
    "                continue\n",
    "\n",
    "            if line[0] == \"-\":\n",
    "                if \"Mean Aitchison\" in line:\n",
    "                    captRates.append(float(f.readline().partition(\":\")[2]))\n",
    "    return captRates"
   ]
  },
  {
   "cell_type": "code",
   "execution_count": 5,
   "metadata": {},
   "outputs": [],
   "source": [
    "def readInData(root, totalCoeffPerSeed = 550):\n",
    "    # Get all the folders in the root and drop the code folders\n",
    "    directories = [s for s in os.listdir(root) if os.path.isdir(root+s)]\n",
    "\n",
    "    # Initating the dataframe, some folders may not have RAStats<seed>.csv due to memory or time-out\n",
    "    dataInitated = False\n",
    "    startIdx = 0\n",
    "    indRACaptRates = pd.DataFrame(index=seeds, columns=[\"MeAD\"])\n",
    "    while not dataInitated:\n",
    "        dataInitated = True\n",
    "        try:\n",
    "            indRACaptRates.loc[int(directories[startIdx])] = getIndividualRACaptRate(directories[startIdx], root)\n",
    "            RAData = pd.read_csv(os.path.join(root, directories[startIdx], \"RAStats\"+directories[startIdx]+\".csv\"), usecols=range(8))\n",
    "            if directories[startIdx] == \"92608\":\n",
    "                print(RAData)\n",
    "            RAData['seed'] = directories[startIdx]\n",
    "            if RAData.shape[0] < totalCoeffPerSeed:\n",
    "                print(directories[startIdx], \"processed\", RAData.shape[0], \"coefficients\")\n",
    "                getReason(directories[startIdx])\n",
    "        except:\n",
    "            print(directories[startIdx], \" did not have RA stats\")\n",
    "            dataInitated = False\n",
    "        startIdx += 1\n",
    "\n",
    "    # Appending all the rest of the RAStats<seed>.csv to the initial RAStats<seed>.csv\n",
    "    for i in range(startIdx, len(directories)):\n",
    "        try:\n",
    "            indRACaptRates.loc[int(directories[i])] = getIndividualRACaptRate(directories[i], root)\n",
    "            toAppend = pd.read_csv(os.path.join(root, directories[i], \"RAStats\"+directories[i]+\".csv\"), usecols=range(8))\n",
    "            toAppend['seed'] = directories[i]\n",
    "            if toAppend.shape[0] < totalCoeffPerSeed:\n",
    "                print(directories[i], \"processed\", toAppend.shape[0], \"coefficients\")\n",
    "                getReason(directories[i], root) \n",
    "            if toAppend.shape[0] != 0:\n",
    "                RAData = pd.concat([RAData, toAppend])\n",
    "        except:\n",
    "            print(directories[i], \" did not have RA stats\")\n",
    "            getReason(directories[i], root)\n",
    "    \n",
    "    RAData = RAData.set_index(['category','seed'])\n",
    "     \n",
    "    return RAData, indRACaptRates"
   ]
  },
  {
   "cell_type": "code",
   "execution_count": 6,
   "metadata": {},
   "outputs": [],
   "source": [
    "# used for multiple covatiates models\n",
    "def getResults(dat, resDat, col, rowName):\n",
    "    indx = list(range(5, 51))\n",
    "    toAdd = dat.loc[[1,2,3,4], col].describe().loc[[\"mean\", \"50%\"]]\n",
    "    toAdd = pd.concat([toAdd, dat.loc[indx, col].describe().loc[[\"mean\", \"50%\"]]], ignore_index=True)\n",
    "    toAdd = toAdd.to_frame().T\n",
    "    toAdd.columns = [\"Mean \" + col + \" Cat 1-4\", \"Median \" + col + \" Cat 1-4\", \"Mean \" + col + \" Cat 5-50\", \"Median \" + col + \" Cat 5-50\"]\n",
    "    toAdd.index = [rowName]\n",
    "    if resDat is None:\n",
    "        resDat = toAdd\n",
    "    else:\n",
    "        resDat = pd.concat([resDat, toAdd])\n",
    "    return resDat"
   ]
  },
  {
   "cell_type": "markdown",
   "metadata": {},
   "source": [
    "# Alternative Model Comparison"
   ]
  },
  {
   "cell_type": "code",
   "execution_count": 7,
   "metadata": {},
   "outputs": [],
   "source": [
    "RAData, indRACaptRates = readInData(\"FunCZIDM50/\", totalCoeffPerSeed = 550)"
   ]
  },
  {
   "cell_type": "code",
   "execution_count": 8,
   "metadata": {},
   "outputs": [],
   "source": [
    "RAData.columns = RAData.columns.str.strip()"
   ]
  },
  {
   "cell_type": "code",
   "execution_count": 9,
   "metadata": {},
   "outputs": [],
   "source": [
    "toDrop = np.unique(RAData[RAData[\"mean RMSE\"] > 1e+02].index.get_level_values(1))\n",
    "toKeep = RAData.index.levels[1].difference(toDrop)\n",
    "RAData = RAData.loc[(slice(None), toKeep), :]"
   ]
  },
  {
   "cell_type": "code",
   "execution_count": 10,
   "metadata": {},
   "outputs": [],
   "source": [
    "RADataIntercept = RAData[RAData[\"covariate\"] == \"intercept\"]\n",
    "RADataCov = RAData[RAData[\"covariate\"] != \"intercept\"]"
   ]
  },
  {
   "cell_type": "code",
   "execution_count": 11,
   "metadata": {},
   "outputs": [],
   "source": [
    "RAEval = getResults(RADataCov, None, \"RA 95 CI\", \"Covariates\")\n",
    "RAEval = getResults(RADataIntercept, RAEval, \"RA 95 CI\", \"Intercepts\")\n",
    "BEval = getResults(RADataCov, None, \"B(t) 95 CI\", \"Covariates\")\n",
    "BEval = getResults(RADataIntercept, BEval, \"B(t) 95 CI\", \"Intercepts\")\n",
    "RMSEEval = getResults(RADataCov, None, \"mean RMSE\", \"Covariates\")\n",
    "RMSEEval = getResults(RADataIntercept, RMSEEval, \"mean RMSE\", \"Intercepts\")\n",
    "IndRAEval = pd.DataFrame(indRACaptRates.mean()).T\n",
    "IndRAEval.index = [\"FunCZIDM\"]"
   ]
  },
  {
   "cell_type": "code",
   "execution_count": 12,
   "metadata": {},
   "outputs": [
    {
     "data": {
      "text/plain": [
       "array([], dtype=object)"
      ]
     },
     "execution_count": 12,
     "metadata": {},
     "output_type": "execute_result"
    }
   ],
   "source": [
    "toDrop"
   ]
  },
  {
   "cell_type": "code",
   "execution_count": 13,
   "metadata": {},
   "outputs": [
    {
     "data": {
      "text/plain": [
       "category  seed \n",
       "39        53605    0.001211\n",
       "37        36964    0.001281\n",
       "23        94940    0.001286\n",
       "10        52012    0.001293\n",
       "27        32898    0.001308\n",
       "                     ...   \n",
       "4         33528    0.725972\n",
       "50        60546    0.846329\n",
       "2         90645    1.277488\n",
       "4         36964    1.343703\n",
       "2         74642    2.538248\n",
       "Name: mean RMSE, Length: 55000, dtype: float64"
      ]
     },
     "execution_count": 13,
     "metadata": {},
     "output_type": "execute_result"
    }
   ],
   "source": [
    "RAData[\"mean RMSE\"].sort_values()"
   ]
  },
  {
   "cell_type": "code",
   "execution_count": 14,
   "metadata": {},
   "outputs": [],
   "source": [
    "window = 750\n",
    "std = (window - 1)/6\n",
    "metrics = [\"RA 95 CI\", \"B(t) 95 CI\", \"mean RMSE\"]\n",
    "plotDat = RADataCov.loc[[1,2,3,4], [\"zero prop\"]+metrics].sort_values(\"zero prop\")\n",
    "x = plotDat[\"zero prop\"]\n",
    "y = plotDat[metrics].rolling(window=window, win_type='gaussian', center=True).mean(std=std)"
   ]
  },
  {
   "cell_type": "code",
   "execution_count": 15,
   "metadata": {
    "scrolled": true
   },
   "outputs": [],
   "source": [
    "RAData, indRACaptRates = readInData(\"DM50/\", totalCoeffPerSeed = 550)"
   ]
  },
  {
   "cell_type": "code",
   "execution_count": 16,
   "metadata": {},
   "outputs": [],
   "source": [
    "RAData.columns = RAData.columns.str.strip()"
   ]
  },
  {
   "cell_type": "code",
   "execution_count": 17,
   "metadata": {},
   "outputs": [],
   "source": [
    "toDrop = np.unique(RAData[RAData[\"mean RMSE\"] > 1e+02].index.get_level_values(1))\n",
    "toKeep = RAData.index.levels[1].difference(toDrop)\n",
    "RAData = RAData.loc[(slice(None), toKeep), :]"
   ]
  },
  {
   "cell_type": "code",
   "execution_count": 18,
   "metadata": {},
   "outputs": [
    {
     "data": {
      "text/plain": [
       "array([], dtype=object)"
      ]
     },
     "execution_count": 18,
     "metadata": {},
     "output_type": "execute_result"
    }
   ],
   "source": [
    "toDrop"
   ]
  },
  {
   "cell_type": "code",
   "execution_count": 19,
   "metadata": {},
   "outputs": [
    {
     "data": {
      "text/plain": [
       "category  seed \n",
       "20        57905    0.000857\n",
       "18        97163    0.000857\n",
       "32        74339    0.000881\n",
       "28        29556    0.000890\n",
       "10        12349    0.000902\n",
       "                     ...   \n",
       "4         82945    0.722954\n",
       "1         92637    0.736550\n",
       "4         72537    0.862002\n",
       "2         76079    0.914151\n",
       "          21490    1.685683\n",
       "Name: mean RMSE, Length: 55000, dtype: float64"
      ]
     },
     "execution_count": 19,
     "metadata": {},
     "output_type": "execute_result"
    }
   ],
   "source": [
    "RAData[\"mean RMSE\"].sort_values()"
   ]
  },
  {
   "cell_type": "code",
   "execution_count": 20,
   "metadata": {},
   "outputs": [],
   "source": [
    "RADataIntercept = RAData[RAData[\"covariate\"] == \"intercept\"]\n",
    "RADataCov = RAData[RAData[\"covariate\"] != \"intercept\"]"
   ]
  },
  {
   "cell_type": "code",
   "execution_count": 21,
   "metadata": {},
   "outputs": [],
   "source": [
    "RAEval = getResults(RADataCov, RAEval, \"RA 95 CI\", \"DM Covariates\")\n",
    "RAEval = getResults(RADataIntercept, RAEval, \"RA 95 CI\", \"DM Intercepts\")\n",
    "BEval = getResults(RADataCov, BEval, \"B(t) 95 CI\", \"DM Covariates\")\n",
    "BEval = getResults(RADataIntercept, BEval, \"B(t) 95 CI\", \"DM Intercepts\")\n",
    "RMSEEval = getResults(RADataCov, RMSEEval, \"mean RMSE\", \"DM Covariates\")\n",
    "RMSEEval = getResults(RADataIntercept, RMSEEval, \"mean RMSE\", \"DM Intercepts\")\n",
    "toAdd = pd.DataFrame(indRACaptRates.mean()).T\n",
    "toAdd.index = [\"DM\"]\n",
    "IndRAEval = pd.concat([IndRAEval, toAdd])"
   ]
  },
  {
   "cell_type": "code",
   "execution_count": 22,
   "metadata": {},
   "outputs": [],
   "source": [
    "plotDat = RADataCov.loc[[1,2,3,4], [\"zero prop\"]+metrics].sort_values(\"zero prop\")\n",
    "x_DM = plotDat[\"zero prop\"]\n",
    "y_DM = plotDat[metrics].rolling(window=window, win_type='gaussian', center=True).mean(std=std)"
   ]
  },
  {
   "cell_type": "code",
   "execution_count": 23,
   "metadata": {
    "scrolled": true
   },
   "outputs": [],
   "source": [
    "RAData, indRACaptRates = readInData(\"FunCDM50/\", totalCoeffPerSeed = 550)"
   ]
  },
  {
   "cell_type": "code",
   "execution_count": 24,
   "metadata": {},
   "outputs": [],
   "source": [
    "RAData.columns = RAData.columns.str.strip()"
   ]
  },
  {
   "cell_type": "code",
   "execution_count": 25,
   "metadata": {},
   "outputs": [],
   "source": [
    "toDrop = np.unique(RAData[RAData[\"mean RMSE\"] > 1e+02].index.get_level_values(1))\n",
    "toKeep = RAData.index.levels[1].difference(toDrop)\n",
    "RAData = RAData.loc[(slice(None), toKeep), :]"
   ]
  },
  {
   "cell_type": "code",
   "execution_count": 26,
   "metadata": {},
   "outputs": [
    {
     "data": {
      "text/plain": [
       "array([], dtype=object)"
      ]
     },
     "execution_count": 26,
     "metadata": {},
     "output_type": "execute_result"
    }
   ],
   "source": [
    "toDrop"
   ]
  },
  {
   "cell_type": "code",
   "execution_count": 27,
   "metadata": {},
   "outputs": [
    {
     "data": {
      "text/plain": [
       "category  seed \n",
       "14        20271    0.001448\n",
       "41        78712    0.001454\n",
       "37        52012    0.001495\n",
       "27        17228    0.001521\n",
       "39        82733    0.001550\n",
       "                     ...   \n",
       "3         59667    0.703182\n",
       "          59667    0.704176\n",
       "          58697    0.706390\n",
       "2         82945    0.709146\n",
       "4         82945    0.711939\n",
       "Name: mean RMSE, Length: 55000, dtype: float64"
      ]
     },
     "execution_count": 27,
     "metadata": {},
     "output_type": "execute_result"
    }
   ],
   "source": [
    "RAData[\"mean RMSE\"].sort_values()"
   ]
  },
  {
   "cell_type": "code",
   "execution_count": 28,
   "metadata": {},
   "outputs": [],
   "source": [
    "RADataIntercept = RAData[RAData[\"covariate\"] == \"intercept\"]\n",
    "RADataCov = RAData[RAData[\"covariate\"] != \"intercept\"]"
   ]
  },
  {
   "cell_type": "code",
   "execution_count": 29,
   "metadata": {},
   "outputs": [],
   "source": [
    "RAEval = getResults(RADataCov, RAEval, \"RA 95 CI\", \"FunCDM Covariates\")\n",
    "RAEval = getResults(RADataIntercept, RAEval, \"RA 95 CI\", \"FunCDM Intercepts\")\n",
    "BEval = getResults(RADataCov, BEval, \"B(t) 95 CI\", \"FunCDM Covariates\")\n",
    "BEval = getResults(RADataIntercept, BEval, \"B(t) 95 CI\", \"FunCDM Intercepts\")\n",
    "RMSEEval = getResults(RADataCov, RMSEEval, \"mean RMSE\", \"FunCDM Covariates\")\n",
    "RMSEEval = getResults(RADataIntercept, RMSEEval, \"mean RMSE\", \"FunCDM Intercepts\")\n",
    "toAdd = pd.DataFrame(indRACaptRates.mean()).T\n",
    "toAdd.index = [\"FunCDM\"]\n",
    "IndRAEval = pd.concat([IndRAEval, toAdd])"
   ]
  },
  {
   "cell_type": "code",
   "execution_count": 30,
   "metadata": {},
   "outputs": [],
   "source": [
    "plotDat = RADataCov.loc[[1,2,3,4], [\"zero prop\"]+metrics].sort_values(\"zero prop\")\n",
    "x_FunCDM = plotDat[\"zero prop\"]\n",
    "y_FunCDM = plotDat[metrics].rolling(window=window, win_type='gaussian', center=True).mean(std=std)"
   ]
  },
  {
   "cell_type": "code",
   "execution_count": 31,
   "metadata": {},
   "outputs": [],
   "source": [
    "RAData, indRACaptRates = readInData(\"ZIDM50/\", totalCoeffPerSeed = 550)"
   ]
  },
  {
   "cell_type": "code",
   "execution_count": 32,
   "metadata": {},
   "outputs": [],
   "source": [
    "RAData.columns = RAData.columns.str.strip()"
   ]
  },
  {
   "cell_type": "code",
   "execution_count": 33,
   "metadata": {},
   "outputs": [],
   "source": [
    "toDrop = np.unique(RAData[RAData[\"mean RMSE\"] > 1e+02].index.get_level_values(1))\n",
    "toKeep = RAData.index.levels[1].difference(toDrop)\n",
    "RAData = RAData.loc[(slice(None), toKeep), :]"
   ]
  },
  {
   "cell_type": "code",
   "execution_count": 34,
   "metadata": {},
   "outputs": [
    {
     "data": {
      "text/plain": [
       "array(['15470', '21995', '36964', '54386', '60419', '64659'], dtype=object)"
      ]
     },
     "execution_count": 34,
     "metadata": {},
     "output_type": "execute_result"
    }
   ],
   "source": [
    "toDrop"
   ]
  },
  {
   "cell_type": "code",
   "execution_count": 35,
   "metadata": {},
   "outputs": [
    {
     "data": {
      "text/plain": [
       "category  seed \n",
       "15        89717     0.001156\n",
       "12        74339     0.001223\n",
       "46        97448     0.001225\n",
       "34        18342     0.001240\n",
       "24        59190     0.001245\n",
       "                     ...    \n",
       "2         58697    10.737270\n",
       "          58697    14.982450\n",
       "          32898    19.524040\n",
       "          58697    30.745480\n",
       "          58697    77.200400\n",
       "Name: mean RMSE, Length: 51700, dtype: float64"
      ]
     },
     "execution_count": 35,
     "metadata": {},
     "output_type": "execute_result"
    }
   ],
   "source": [
    "RAData[\"mean RMSE\"].sort_values()"
   ]
  },
  {
   "cell_type": "code",
   "execution_count": 36,
   "metadata": {},
   "outputs": [
    {
     "data": {
      "image/png": "[encoded data removed]",
      "text/plain": [
       "<Figure size 432x288 with 1 Axes>"
      ]
     },
     "metadata": {
      "needs_background": "light"
     },
     "output_type": "display_data"
    }
   ],
   "source": [
    "import matplotlib.image as mpimg\n",
    "\n",
    "img = mpimg.imread(\"ZIDM50/32898/plots/cov1Traceplots.png\")\n",
    "plt.imshow(img)\n",
    "plt.axis('off')  # Hide axes for cleaner display\n",
    "x_min, x_max = 0, 1500  # For example, zoom from x-coordinate 50 to 200\n",
    "y_min, y_max = 1000, 400  # And y-coordinate 100 to 300\n",
    "plt.xlim(x_min, x_max)\n",
    "plt.ylim(y_min, y_max)\n",
    "plt.show()"
   ]
  },
  {
   "cell_type": "code",
   "execution_count": 37,
   "metadata": {},
   "outputs": [
    {
     "data": {
      "image/png": "[encoded data removed]",
      "text/plain": [
       "<Figure size 432x288 with 1 Axes>"
      ]
     },
     "metadata": {
      "needs_background": "light"
     },
     "output_type": "display_data"
    }
   ],
   "source": [
    "import matplotlib.image as mpimg\n",
    "\n",
    "img = mpimg.imread(\"ZIDM50/32898/plots/cov3Traceplots.png\")\n",
    "plt.imshow(img)\n",
    "plt.axis('off')  # Hide axes for cleaner display\n",
    "x_min, x_max = 0, 1500  # For example, zoom from x-coordinate 50 to 200\n",
    "y_min, y_max = 1000, 400  # And y-coordinate 100 to 300\n",
    "plt.xlim(x_min, x_max)\n",
    "plt.ylim(y_min, y_max)\n",
    "plt.show()"
   ]
  },
  {
   "cell_type": "code",
   "execution_count": 38,
   "metadata": {},
   "outputs": [],
   "source": [
    "# 58697 just had large intervals around a mean while 32898 showed signs of converging at a later point\n",
    "# We drop 32898 since it wasnt converged. The above imgs show the non-convergence\n",
    "wasNotConvergedOverSamplePeriod = ['32898']\n",
    "toKeep = RAData.index.levels[1].difference(wasNotConvergedOverSamplePeriod)\n",
    "RAData = RAData.loc[(slice(None), toKeep), :]"
   ]
  },
  {
   "cell_type": "code",
   "execution_count": 39,
   "metadata": {},
   "outputs": [],
   "source": [
    "RADataIntercept = RAData[RAData[\"covariate\"] == \"intercept\"]\n",
    "RADataCov = RAData[RAData[\"covariate\"] != \"intercept\"]"
   ]
  },
  {
   "cell_type": "code",
   "execution_count": 40,
   "metadata": {},
   "outputs": [],
   "source": [
    "RAEval = getResults(RADataCov, RAEval, \"RA 95 CI\", \"ZIDM Covariates\")\n",
    "RAEval = getResults(RADataIntercept, RAEval, \"RA 95 CI\", \"ZIDM Intercepts\")\n",
    "BEval = getResults(RADataCov, BEval, \"B(t) 95 CI\", \"ZIDM Covariates\")\n",
    "BEval = getResults(RADataIntercept, BEval, \"B(t) 95 CI\", \"ZIDM Intercepts\")\n",
    "RMSEEval = getResults(RADataCov, RMSEEval, \"mean RMSE\", \"ZIDM Covariates\")\n",
    "RMSEEval = getResults(RADataIntercept, RMSEEval, \"mean RMSE\", \"ZIDM Intercepts\")\n",
    "toAdd = pd.DataFrame(indRACaptRates.mean()).T\n",
    "toAdd.index = [\"ZIDM\"]\n",
    "IndRAEval = pd.concat([IndRAEval, toAdd])"
   ]
  },
  {
   "cell_type": "code",
   "execution_count": 41,
   "metadata": {},
   "outputs": [],
   "source": [
    "plotDat = RADataCov.loc[[1,2,3,4], [\"zero prop\"]+metrics].sort_values(\"zero prop\")\n",
    "x_ZIDM = plotDat[\"zero prop\"]\n",
    "y_ZIDM = plotDat[metrics].rolling(window=window, win_type='gaussian', center=True).mean(std=std)"
   ]
  },
  {
   "cell_type": "markdown",
   "metadata": {},
   "source": [
    "## Multiple Covariates Results"
   ]
  },
  {
   "cell_type": "code",
   "execution_count": 42,
   "metadata": {},
   "outputs": [
    {
     "data": {
      "text/html": [
       "<div>\n",
       "<style scoped>\n",
       "    .dataframe tbody tr th:only-of-type {\n",
       "        vertical-align: middle;\n",
       "    }\n",
       "\n",
       "    .dataframe tbody tr th {\n",
       "        vertical-align: top;\n",
       "    }\n",
       "\n",
       "    .dataframe thead th {\n",
       "        text-align: right;\n",
       "    }\n",
       "</style>\n",
       "<table border=\"1\" class=\"dataframe\">\n",
       "  <thead>\n",
       "    <tr style=\"text-align: right;\">\n",
       "      <th></th>\n",
       "      <th>Mean mean RMSE Cat 1-4</th>\n",
       "      <th>Median mean RMSE Cat 1-4</th>\n",
       "      <th>Mean mean RMSE Cat 5-50</th>\n",
       "      <th>Median mean RMSE Cat 5-50</th>\n",
       "    </tr>\n",
       "  </thead>\n",
       "  <tbody>\n",
       "    <tr>\n",
       "      <th>Covariates</th>\n",
       "      <td>0.190273</td>\n",
       "      <td>0.158457</td>\n",
       "      <td>0.046149</td>\n",
       "      <td>0.038388</td>\n",
       "    </tr>\n",
       "    <tr>\n",
       "      <th>Intercepts</th>\n",
       "      <td>0.007301</td>\n",
       "      <td>0.006081</td>\n",
       "      <td>0.007238</td>\n",
       "      <td>0.005944</td>\n",
       "    </tr>\n",
       "    <tr>\n",
       "      <th>DM Covariates</th>\n",
       "      <td>0.257854</td>\n",
       "      <td>0.226022</td>\n",
       "      <td>0.036893</td>\n",
       "      <td>0.031913</td>\n",
       "    </tr>\n",
       "    <tr>\n",
       "      <th>DM Intercepts</th>\n",
       "      <td>0.011481</td>\n",
       "      <td>0.009996</td>\n",
       "      <td>0.012344</td>\n",
       "      <td>0.010712</td>\n",
       "    </tr>\n",
       "    <tr>\n",
       "      <th>FunCDM Covariates</th>\n",
       "      <td>0.195045</td>\n",
       "      <td>0.157742</td>\n",
       "      <td>0.032615</td>\n",
       "      <td>0.029686</td>\n",
       "    </tr>\n",
       "    <tr>\n",
       "      <th>FunCDM Intercepts</th>\n",
       "      <td>0.012080</td>\n",
       "      <td>0.009861</td>\n",
       "      <td>0.013038</td>\n",
       "      <td>0.010549</td>\n",
       "    </tr>\n",
       "    <tr>\n",
       "      <th>ZIDM Covariates</th>\n",
       "      <td>0.272900</td>\n",
       "      <td>0.197679</td>\n",
       "      <td>0.037328</td>\n",
       "      <td>0.032564</td>\n",
       "    </tr>\n",
       "    <tr>\n",
       "      <th>ZIDM Intercepts</th>\n",
       "      <td>0.008188</td>\n",
       "      <td>0.006441</td>\n",
       "      <td>0.007282</td>\n",
       "      <td>0.006143</td>\n",
       "    </tr>\n",
       "  </tbody>\n",
       "</table>\n",
       "</div>"
      ],
      "text/plain": [
       "                   Mean mean RMSE Cat 1-4  Median mean RMSE Cat 1-4  \\\n",
       "Covariates                       0.190273                  0.158457   \n",
       "Intercepts                       0.007301                  0.006081   \n",
       "DM Covariates                    0.257854                  0.226022   \n",
       "DM Intercepts                    0.011481                  0.009996   \n",
       "FunCDM Covariates                0.195045                  0.157742   \n",
       "FunCDM Intercepts                0.012080                  0.009861   \n",
       "ZIDM Covariates                  0.272900                  0.197679   \n",
       "ZIDM Intercepts                  0.008188                  0.006441   \n",
       "\n",
       "                   Mean mean RMSE Cat 5-50  Median mean RMSE Cat 5-50  \n",
       "Covariates                        0.046149                   0.038388  \n",
       "Intercepts                        0.007238                   0.005944  \n",
       "DM Covariates                     0.036893                   0.031913  \n",
       "DM Intercepts                     0.012344                   0.010712  \n",
       "FunCDM Covariates                 0.032615                   0.029686  \n",
       "FunCDM Intercepts                 0.013038                   0.010549  \n",
       "ZIDM Covariates                   0.037328                   0.032564  \n",
       "ZIDM Intercepts                   0.007282                   0.006143  "
      ]
     },
     "execution_count": 42,
     "metadata": {},
     "output_type": "execute_result"
    }
   ],
   "source": [
    "RMSEEval"
   ]
  },
  {
   "cell_type": "code",
   "execution_count": 43,
   "metadata": {},
   "outputs": [],
   "source": [
    "latex = RMSEEval[[\"Mean mean RMSE Cat 1-4\", \"Mean mean RMSE Cat 5-50\"]]\n",
    "keep = [\"Cov\" in ind for ind in latex.index]\n",
    "latex = latex[keep]\n",
    "latex.index = [\"FunC-ZIDM\", \"DM\", \"FunC-DM\", \"ZIDM\"]\n",
    "latex.index.names = [\"Model\"]\n",
    "latex.columns = [\"ARMSE Cat 1-4\", \"ARMSE Cat 5-50\"]"
   ]
  },
  {
   "cell_type": "code",
   "execution_count": 44,
   "metadata": {},
   "outputs": [
    {
     "data": {
      "text/html": [
       "<div>\n",
       "<style scoped>\n",
       "    .dataframe tbody tr th:only-of-type {\n",
       "        vertical-align: middle;\n",
       "    }\n",
       "\n",
       "    .dataframe tbody tr th {\n",
       "        vertical-align: top;\n",
       "    }\n",
       "\n",
       "    .dataframe thead th {\n",
       "        text-align: right;\n",
       "    }\n",
       "</style>\n",
       "<table border=\"1\" class=\"dataframe\">\n",
       "  <thead>\n",
       "    <tr style=\"text-align: right;\">\n",
       "      <th></th>\n",
       "      <th>Mean B(t) 95 CI Cat 1-4</th>\n",
       "      <th>Median B(t) 95 CI Cat 1-4</th>\n",
       "      <th>Mean B(t) 95 CI Cat 5-50</th>\n",
       "      <th>Median B(t) 95 CI Cat 5-50</th>\n",
       "    </tr>\n",
       "  </thead>\n",
       "  <tbody>\n",
       "    <tr>\n",
       "      <th>Covariates</th>\n",
       "      <td>0.934773</td>\n",
       "      <td>1.00</td>\n",
       "      <td>0.998702</td>\n",
       "      <td>1.0</td>\n",
       "    </tr>\n",
       "    <tr>\n",
       "      <th>Intercepts</th>\n",
       "      <td>0.964200</td>\n",
       "      <td>1.00</td>\n",
       "      <td>0.982763</td>\n",
       "      <td>1.0</td>\n",
       "    </tr>\n",
       "    <tr>\n",
       "      <th>DM Covariates</th>\n",
       "      <td>0.609875</td>\n",
       "      <td>0.63</td>\n",
       "      <td>0.998284</td>\n",
       "      <td>1.0</td>\n",
       "    </tr>\n",
       "    <tr>\n",
       "      <th>DM Intercepts</th>\n",
       "      <td>0.009675</td>\n",
       "      <td>0.00</td>\n",
       "      <td>0.005046</td>\n",
       "      <td>0.0</td>\n",
       "    </tr>\n",
       "    <tr>\n",
       "      <th>FunCDM Covariates</th>\n",
       "      <td>0.764918</td>\n",
       "      <td>0.90</td>\n",
       "      <td>0.999269</td>\n",
       "      <td>1.0</td>\n",
       "    </tr>\n",
       "    <tr>\n",
       "      <th>FunCDM Intercepts</th>\n",
       "      <td>0.309275</td>\n",
       "      <td>0.00</td>\n",
       "      <td>0.290539</td>\n",
       "      <td>0.0</td>\n",
       "    </tr>\n",
       "    <tr>\n",
       "      <th>ZIDM Covariates</th>\n",
       "      <td>0.869013</td>\n",
       "      <td>1.00</td>\n",
       "      <td>0.999785</td>\n",
       "      <td>1.0</td>\n",
       "    </tr>\n",
       "    <tr>\n",
       "      <th>ZIDM Intercepts</th>\n",
       "      <td>0.131317</td>\n",
       "      <td>0.04</td>\n",
       "      <td>0.087394</td>\n",
       "      <td>0.0</td>\n",
       "    </tr>\n",
       "  </tbody>\n",
       "</table>\n",
       "</div>"
      ],
      "text/plain": [
       "                   Mean B(t) 95 CI Cat 1-4  Median B(t) 95 CI Cat 1-4  \\\n",
       "Covariates                        0.934773                       1.00   \n",
       "Intercepts                        0.964200                       1.00   \n",
       "DM Covariates                     0.609875                       0.63   \n",
       "DM Intercepts                     0.009675                       0.00   \n",
       "FunCDM Covariates                 0.764918                       0.90   \n",
       "FunCDM Intercepts                 0.309275                       0.00   \n",
       "ZIDM Covariates                   0.869013                       1.00   \n",
       "ZIDM Intercepts                   0.131317                       0.04   \n",
       "\n",
       "                   Mean B(t) 95 CI Cat 5-50  Median B(t) 95 CI Cat 5-50  \n",
       "Covariates                         0.998702                         1.0  \n",
       "Intercepts                         0.982763                         1.0  \n",
       "DM Covariates                      0.998284                         1.0  \n",
       "DM Intercepts                      0.005046                         0.0  \n",
       "FunCDM Covariates                  0.999269                         1.0  \n",
       "FunCDM Intercepts                  0.290539                         0.0  \n",
       "ZIDM Covariates                    0.999785                         1.0  \n",
       "ZIDM Intercepts                    0.087394                         0.0  "
      ]
     },
     "execution_count": 44,
     "metadata": {},
     "output_type": "execute_result"
    }
   ],
   "source": [
    "BEval"
   ]
  },
  {
   "cell_type": "code",
   "execution_count": 45,
   "metadata": {},
   "outputs": [],
   "source": [
    "latex[\"B95 Cat 1-4\"] = BEval[\"Mean B(t) 95 CI Cat 1-4\"][keep].values\n",
    "latex[\"B95 Cat 5-50\"] = BEval[\"Mean B(t) 95 CI Cat 5-50\"][keep].values"
   ]
  },
  {
   "cell_type": "code",
   "execution_count": 46,
   "metadata": {},
   "outputs": [
    {
     "data": {
      "text/html": [
       "<div>\n",
       "<style scoped>\n",
       "    .dataframe tbody tr th:only-of-type {\n",
       "        vertical-align: middle;\n",
       "    }\n",
       "\n",
       "    .dataframe tbody tr th {\n",
       "        vertical-align: top;\n",
       "    }\n",
       "\n",
       "    .dataframe thead th {\n",
       "        text-align: right;\n",
       "    }\n",
       "</style>\n",
       "<table border=\"1\" class=\"dataframe\">\n",
       "  <thead>\n",
       "    <tr style=\"text-align: right;\">\n",
       "      <th></th>\n",
       "      <th>Mean RA 95 CI Cat 1-4</th>\n",
       "      <th>Median RA 95 CI Cat 1-4</th>\n",
       "      <th>Mean RA 95 CI Cat 5-50</th>\n",
       "      <th>Median RA 95 CI Cat 5-50</th>\n",
       "    </tr>\n",
       "  </thead>\n",
       "  <tbody>\n",
       "    <tr>\n",
       "      <th>Covariates</th>\n",
       "      <td>0.935615</td>\n",
       "      <td>1.000</td>\n",
       "      <td>0.998061</td>\n",
       "      <td>1.00</td>\n",
       "    </tr>\n",
       "    <tr>\n",
       "      <th>Intercepts</th>\n",
       "      <td>0.968750</td>\n",
       "      <td>1.000</td>\n",
       "      <td>0.985959</td>\n",
       "      <td>1.00</td>\n",
       "    </tr>\n",
       "    <tr>\n",
       "      <th>DM Covariates</th>\n",
       "      <td>0.607600</td>\n",
       "      <td>0.620</td>\n",
       "      <td>0.981117</td>\n",
       "      <td>1.00</td>\n",
       "    </tr>\n",
       "    <tr>\n",
       "      <th>DM Intercepts</th>\n",
       "      <td>0.181350</td>\n",
       "      <td>0.000</td>\n",
       "      <td>0.121285</td>\n",
       "      <td>0.00</td>\n",
       "    </tr>\n",
       "    <tr>\n",
       "      <th>FunCDM Covariates</th>\n",
       "      <td>0.766270</td>\n",
       "      <td>0.900</td>\n",
       "      <td>0.983627</td>\n",
       "      <td>1.00</td>\n",
       "    </tr>\n",
       "    <tr>\n",
       "      <th>FunCDM Intercepts</th>\n",
       "      <td>0.330550</td>\n",
       "      <td>0.040</td>\n",
       "      <td>0.255148</td>\n",
       "      <td>0.00</td>\n",
       "    </tr>\n",
       "    <tr>\n",
       "      <th>ZIDM Covariates</th>\n",
       "      <td>0.869677</td>\n",
       "      <td>1.000</td>\n",
       "      <td>0.994935</td>\n",
       "      <td>1.00</td>\n",
       "    </tr>\n",
       "    <tr>\n",
       "      <th>ZIDM Intercepts</th>\n",
       "      <td>0.572769</td>\n",
       "      <td>0.595</td>\n",
       "      <td>0.412805</td>\n",
       "      <td>0.36</td>\n",
       "    </tr>\n",
       "  </tbody>\n",
       "</table>\n",
       "</div>"
      ],
      "text/plain": [
       "                   Mean RA 95 CI Cat 1-4  Median RA 95 CI Cat 1-4  \\\n",
       "Covariates                      0.935615                    1.000   \n",
       "Intercepts                      0.968750                    1.000   \n",
       "DM Covariates                   0.607600                    0.620   \n",
       "DM Intercepts                   0.181350                    0.000   \n",
       "FunCDM Covariates               0.766270                    0.900   \n",
       "FunCDM Intercepts               0.330550                    0.040   \n",
       "ZIDM Covariates                 0.869677                    1.000   \n",
       "ZIDM Intercepts                 0.572769                    0.595   \n",
       "\n",
       "                   Mean RA 95 CI Cat 5-50  Median RA 95 CI Cat 5-50  \n",
       "Covariates                       0.998061                      1.00  \n",
       "Intercepts                       0.985959                      1.00  \n",
       "DM Covariates                    0.981117                      1.00  \n",
       "DM Intercepts                    0.121285                      0.00  \n",
       "FunCDM Covariates                0.983627                      1.00  \n",
       "FunCDM Intercepts                0.255148                      0.00  \n",
       "ZIDM Covariates                  0.994935                      1.00  \n",
       "ZIDM Intercepts                  0.412805                      0.36  "
      ]
     },
     "execution_count": 46,
     "metadata": {},
     "output_type": "execute_result"
    }
   ],
   "source": [
    "RAEval"
   ]
  },
  {
   "cell_type": "code",
   "execution_count": 47,
   "metadata": {},
   "outputs": [],
   "source": [
    "latex[\"RA95 Cat 1-4\"] = RAEval[\"Mean RA 95 CI Cat 1-4\"][keep].values\n",
    "latex[\"RA95 Cat 5-50\"] = RAEval[\"Mean RA 95 CI Cat 5-50\"][keep].values"
   ]
  },
  {
   "cell_type": "code",
   "execution_count": 48,
   "metadata": {},
   "outputs": [],
   "source": [
    "latex[\"MeAD\"] = IndRAEval[\"MeAD\"].values\n",
    "latex[\"MeAD\"] = IndRAEval[\"MeAD\"].values"
   ]
  },
  {
   "cell_type": "code",
   "execution_count": 49,
   "metadata": {},
   "outputs": [
    {
     "data": {
      "text/plain": [
       "Index(['ARMSE Cat 1-4', 'ARMSE Cat 5-50', 'B95 Cat 1-4', 'B95 Cat 5-50',\n",
       "       'RA95 Cat 1-4', 'RA95 Cat 5-50', 'MeAD'],\n",
       "      dtype='object')"
      ]
     },
     "execution_count": 49,
     "metadata": {},
     "output_type": "execute_result"
    }
   ],
   "source": [
    "latex.columns"
   ]
  },
  {
   "cell_type": "code",
   "execution_count": 50,
   "metadata": {},
   "outputs": [
    {
     "data": {
      "text/html": [
       "<div>\n",
       "<style scoped>\n",
       "    .dataframe tbody tr th:only-of-type {\n",
       "        vertical-align: middle;\n",
       "    }\n",
       "\n",
       "    .dataframe tbody tr th {\n",
       "        vertical-align: top;\n",
       "    }\n",
       "\n",
       "    .dataframe thead tr th {\n",
       "        text-align: left;\n",
       "    }\n",
       "\n",
       "    .dataframe thead tr:last-of-type th {\n",
       "        text-align: right;\n",
       "    }\n",
       "</style>\n",
       "<table border=\"1\" class=\"dataframe\">\n",
       "  <thead>\n",
       "    <tr>\n",
       "      <th>Category</th>\n",
       "      <th></th>\n",
       "      <th colspan=\"3\" halign=\"left\">Categories 1-4</th>\n",
       "      <th colspan=\"3\" halign=\"left\">Categories 5-50</th>\n",
       "    </tr>\n",
       "    <tr>\n",
       "      <th>Type</th>\n",
       "      <th>MAD</th>\n",
       "      <th>RA95</th>\n",
       "      <th>B95</th>\n",
       "      <th>ARMSE</th>\n",
       "      <th>RA95</th>\n",
       "      <th>B95</th>\n",
       "      <th>ARMSE</th>\n",
       "    </tr>\n",
       "    <tr>\n",
       "      <th>Model</th>\n",
       "      <th></th>\n",
       "      <th></th>\n",
       "      <th></th>\n",
       "      <th></th>\n",
       "      <th></th>\n",
       "      <th></th>\n",
       "      <th></th>\n",
       "    </tr>\n",
       "  </thead>\n",
       "  <tbody>\n",
       "    <tr>\n",
       "      <th>FunC-ZIDM</th>\n",
       "      <td>8.375116</td>\n",
       "      <td>0.935615</td>\n",
       "      <td>0.934773</td>\n",
       "      <td>0.190273</td>\n",
       "      <td>0.998061</td>\n",
       "      <td>0.998702</td>\n",
       "      <td>0.046149</td>\n",
       "    </tr>\n",
       "    <tr>\n",
       "      <th>DM</th>\n",
       "      <td>29.591712</td>\n",
       "      <td>0.607600</td>\n",
       "      <td>0.609875</td>\n",
       "      <td>0.257854</td>\n",
       "      <td>0.981117</td>\n",
       "      <td>0.998284</td>\n",
       "      <td>0.036893</td>\n",
       "    </tr>\n",
       "    <tr>\n",
       "      <th>FunC-DM</th>\n",
       "      <td>27.214312</td>\n",
       "      <td>0.766270</td>\n",
       "      <td>0.764918</td>\n",
       "      <td>0.195045</td>\n",
       "      <td>0.983627</td>\n",
       "      <td>0.999269</td>\n",
       "      <td>0.032615</td>\n",
       "    </tr>\n",
       "    <tr>\n",
       "      <th>ZIDM</th>\n",
       "      <td>27.684973</td>\n",
       "      <td>0.869677</td>\n",
       "      <td>0.869013</td>\n",
       "      <td>0.272900</td>\n",
       "      <td>0.994935</td>\n",
       "      <td>0.999785</td>\n",
       "      <td>0.037328</td>\n",
       "    </tr>\n",
       "  </tbody>\n",
       "</table>\n",
       "</div>"
      ],
      "text/plain": [
       "Category             Categories 1-4                     Categories 5-50  \\\n",
       "Type             MAD           RA95       B95     ARMSE            RA95   \n",
       "Model                                                                     \n",
       "FunC-ZIDM   8.375116       0.935615  0.934773  0.190273        0.998061   \n",
       "DM         29.591712       0.607600  0.609875  0.257854        0.981117   \n",
       "FunC-DM    27.214312       0.766270  0.764918  0.195045        0.983627   \n",
       "ZIDM       27.684973       0.869677  0.869013  0.272900        0.994935   \n",
       "\n",
       "Category                       \n",
       "Type            B95     ARMSE  \n",
       "Model                          \n",
       "FunC-ZIDM  0.998702  0.046149  \n",
       "DM         0.998284  0.036893  \n",
       "FunC-DM    0.999269  0.032615  \n",
       "ZIDM       0.999785  0.037328  "
      ]
     },
     "execution_count": 50,
     "metadata": {},
     "output_type": "execute_result"
    }
   ],
   "source": [
    "latex = latex[['MeAD', 'RA95 Cat 1-4', 'B95 Cat 1-4', 'ARMSE Cat 1-4', \n",
    "               'RA95 Cat 5-50', 'B95 Cat 5-50', 'ARMSE Cat 5-50']]\n",
    "latex.columns =  pd.MultiIndex.from_tuples([('', 'MAD')] + pd.MultiIndex.from_product([[\"Categories 1-4\", \"Categories 5-50\"],\n",
    "                                                                                       ['RA95', 'B95', 'ARMSE']], \n",
    "                                                                                      names=[\"Category\", \"Type\"]).tolist(),\n",
    "                                           names=['Category', 'Type'])\n",
    "latex"
   ]
  },
  {
   "cell_type": "code",
   "execution_count": 51,
   "metadata": {},
   "outputs": [
    {
     "name": "stdout",
     "output_type": "stream",
     "text": [
      "\\begin{tabular}{lrrrrrrr}\n",
      "\\toprule\n",
      "Category & \\multicolumn{3}{l}{Categories 1-4} & \\multicolumn{3}{l}{Categories 5-50} \\\\\n",
      "Type &     MAD &           RA95 &    B95 &  ARMSE &            RA95 &    B95 &  ARMSE \\\\\n",
      "Model     &         &                &        &        &                 &        &        \\\\\n",
      "\\midrule\n",
      "FunC-ZIDM &  8.3751 &         0.9356 & 0.9348 & 0.1903 &          0.9981 & 0.9987 & 0.0461 \\\\\n",
      "DM        & 29.5917 &         0.6076 & 0.6099 & 0.2579 &          0.9811 & 0.9983 & 0.0369 \\\\\n",
      "FunC-DM   & 27.2143 &         0.7663 & 0.7649 & 0.1950 &          0.9836 & 0.9993 & 0.0326 \\\\\n",
      "ZIDM      & 27.6850 &         0.8697 & 0.8690 & 0.2729 &          0.9949 & 0.9998 & 0.0373 \\\\\n",
      "\\bottomrule\n",
      "\\end{tabular}\n",
      "\n"
     ]
    }
   ],
   "source": [
    "print(latex.to_latex(float_format=\"%.4f\"))"
   ]
  },
  {
   "cell_type": "code",
   "execution_count": 52,
   "metadata": {},
   "outputs": [],
   "source": [
    "%%bash\n",
    "module load texlive"
   ]
  },
  {
   "cell_type": "code",
   "execution_count": 53,
   "metadata": {},
   "outputs": [],
   "source": [
    "# Adding latex path so accessable by python\n",
    "os.environ[\"PATH\"] = \"/curc/sw/texlive/2021/bin/x86_64-linux\" + \":\" + os.environ[\"PATH\"]"
   ]
  },
  {
   "cell_type": "code",
   "execution_count": 54,
   "metadata": {},
   "outputs": [
    {
     "data": {
      "image/png": "[encoded data removed]",
      "text/plain": [
       "<Figure size 1800x720 with 2 Axes>"
      ]
     },
     "metadata": {
      "needs_background": "light"
     },
     "output_type": "display_data"
    }
   ],
   "source": [
    "# Enable LaTeX rendering\n",
    "plt.rc('text', usetex=True)\n",
    "plt.rc('font', family='serif')\n",
    "\n",
    "fig, axes = plt.subplots(1, 2, figsize=(25, 10))\n",
    "axes = axes.flatten() \n",
    "fontsize = 25\n",
    " \n",
    "axes[0].plot(x, y[\"mean RMSE\"], label=\"FunC-ZIDM\", linestyle=\"-\", linewidth=3) \n",
    "axes[0].plot(x_ZIDM, y_ZIDM[\"mean RMSE\"], label=\"ZIDM\", linestyle=\"--\", linewidth=3)\n",
    "axes[0].plot(x_FunCDM, y_FunCDM[\"mean RMSE\"], label=\"FunC-DM\", linestyle=\":\", linewidth=3)\n",
    "axes[0].plot(x_DM, y_DM[\"mean RMSE\"], label=\"DM\", linestyle=\"-.\", linewidth=3)\n",
    "axes[0].set_xlabel(\"Zero-Inflation Proportion\", fontsize=fontsize)  \n",
    "axes[0].set_ylabel(\"Average Root Mean Squared Error (ARMSE)\", fontsize=fontsize)\n",
    "axes[0].set_ylim([0, .57]) # ZIDM max is ~.56\n",
    "axes[0].tick_params(labelsize=fontsize)\n",
    "axes[0].grid(linestyle='--')\n",
    "\n",
    "axes[1].plot(x, y[\"RA 95 CI\"], label=\"FunC-ZIDM\", linestyle=\"-\", linewidth=3) \n",
    "axes[1].plot(x_ZIDM, y_ZIDM[\"RA 95 CI\"], label=\"ZIDM\", linestyle=\"--\", linewidth=3)\n",
    "axes[1].plot(x_FunCDM, y_FunCDM[\"RA 95 CI\"], label=\"FunC-DM\", linestyle=\":\", linewidth=3)\n",
    "axes[1].plot(x_DM, y_DM[\"RA 95 CI\"], label=\"DM\", linestyle=\"-.\", linewidth=3)\n",
    "axes[1].set_xlabel(\"Zero-Inflation Proportion\", fontsize=fontsize)  \n",
    "axes[1].set_ylabel(\"Interval Coverage of $\\Delta_1$RA$_{jp}(t)$ (RA95)\", fontsize=fontsize)\n",
    "axes[1].set_ylim([0, 1])\n",
    "axes[1].tick_params(labelsize=fontsize)\n",
    "axes[1].grid(linestyle='--')\n",
    "\n",
    "handles, labels = axes[0].get_legend_handles_labels()\n",
    "fig.legend(handles, labels, title=\"Model\", loc=\"lower center\", bbox_to_anchor=(0.51, -0.1), ncol=5, fontsize=fontsize, title_fontsize=fontsize)\n",
    "plt.savefig(\"RA95andARMSEMovingAve.png\", bbox_inches=\"tight\")"
   ]
  },
  {
   "cell_type": "markdown",
   "metadata": {
    "jp-MarkdownHeadingCollapsed": true
   },
   "source": [
    "## Scalibility"
   ]
  },
  {
   "cell_type": "code",
   "execution_count": 55,
   "metadata": {},
   "outputs": [],
   "source": [
    "def readInData(root, totalCoeffPerSeed = 550):\n",
    "    # Get all the folders in the root and drop the code folders\n",
    "    directories = [s for s in os.listdir(root) if os.path.isdir(root+s)]\n",
    "\n",
    "    # Initating the dataframe, some folders may not have RAStats<seed>.csv due to memory or time-out\n",
    "    dataInitated = False\n",
    "    startIdx = 0\n",
    "    while not dataInitated:\n",
    "        dataInitated = True\n",
    "        try:\n",
    "            RAData = pd.read_csv(os.path.join(root, directories[startIdx], \"RAStats\"+directories[startIdx]+\".csv\"), usecols=range(8))\n",
    "            if directories[startIdx] == \"92608\":\n",
    "                print(RAData)\n",
    "            RAData['seed'] = directories[startIdx]\n",
    "            if RAData.shape[0] < totalCoeffPerSeed:\n",
    "                print(directories[startIdx], \"processed\", RAData.shape[0], \"coefficients\")\n",
    "                getReason(directories[startIdx])\n",
    "        except:\n",
    "            print(directories[startIdx], \" did not have RA stats\")\n",
    "            dataInitated = False\n",
    "        startIdx += 1\n",
    "\n",
    "    # Appending all the rest of the RAStats<seed>.csv to the initial RAStats<seed>.csv\n",
    "    for i in range(startIdx, len(directories)):\n",
    "        try:\n",
    "            toAppend = pd.read_csv(os.path.join(root, directories[i], \"RAStats\"+directories[i]+\".csv\"), usecols=range(8))\n",
    "            toAppend['seed'] = directories[i]\n",
    "            if toAppend.shape[0] < totalCoeffPerSeed:\n",
    "                print(directories[i], \"processed\", toAppend.shape[0], \"coefficients\")\n",
    "                getReason(directories[i], root) \n",
    "            if toAppend.shape[0] != 0:\n",
    "                RAData = pd.concat([RAData, toAppend])\n",
    "        except:\n",
    "            print(directories[i], \" did not have RA stats: \", end=\"\")\n",
    "            getReason(directories[i], root)\n",
    "    \n",
    "    RAData = RAData.set_index(['category','seed'])\n",
    "     \n",
    "    return RAData"
   ]
  },
  {
   "cell_type": "markdown",
   "metadata": {
    "jp-MarkdownHeadingCollapsed": true
   },
   "source": [
    "### Small\n",
    "\n",
    "- $N = 50$\n",
    "- $J = 50$"
   ]
  },
  {
   "cell_type": "code",
   "execution_count": 56,
   "metadata": {},
   "outputs": [],
   "source": [
    "root = \"FunCZIDM50/\"\n",
    "directories = [s for s in os.listdir(root) if os.path.isdir(root+s)]"
   ]
  },
  {
   "cell_type": "markdown",
   "metadata": {},
   "source": [
    "#### Evaluation of the sampling"
   ]
  },
  {
   "cell_type": "code",
   "execution_count": 57,
   "metadata": {},
   "outputs": [],
   "source": [
    "evalData = pd.read_csv(os.path.join(root, directories[0], \"eval\"+directories[0]+\".csv\"))\n",
    "evalData['seed'] = directories[0]\n",
    "\n",
    "for i in range(1, len(directories)):\n",
    "    toAppend = pd.read_csv(os.path.join(root, directories[i], \"eval\"+directories[i]+\".csv\"))\n",
    "    toAppend['seed'] = directories[i]\n",
    "    evalData = pd.concat([evalData, toAppend])\n",
    "\n",
    "evalData = evalData.set_index(['metric','seed'])"
   ]
  },
  {
   "cell_type": "code",
   "execution_count": 58,
   "metadata": {},
   "outputs": [
    {
     "data": {
      "text/html": [
       "<div>\n",
       "<style scoped>\n",
       "    .dataframe tbody tr th:only-of-type {\n",
       "        vertical-align: middle;\n",
       "    }\n",
       "\n",
       "    .dataframe tbody tr th {\n",
       "        vertical-align: top;\n",
       "    }\n",
       "\n",
       "    .dataframe thead th {\n",
       "        text-align: right;\n",
       "    }\n",
       "</style>\n",
       "<table border=\"1\" class=\"dataframe\">\n",
       "  <thead>\n",
       "    <tr style=\"text-align: right;\">\n",
       "      <th></th>\n",
       "      <th>Mean 2.5% quantile beta AR</th>\n",
       "      <th>Median 2.5% quantile beta AR</th>\n",
       "      <th>Mean 50% quantile beta AR</th>\n",
       "      <th>Median 50% quantile beta AR</th>\n",
       "      <th>Mean 97.5% quantile beta AR</th>\n",
       "      <th>Median 97.5% quantile beta AR</th>\n",
       "      <th>Mean Proportion of ZI Indicators</th>\n",
       "      <th>Mean True Proportion of ZI</th>\n",
       "      <th>Mean Total Time (min)</th>\n",
       "    </tr>\n",
       "    <tr>\n",
       "      <th>J</th>\n",
       "      <th></th>\n",
       "      <th></th>\n",
       "      <th></th>\n",
       "      <th></th>\n",
       "      <th></th>\n",
       "      <th></th>\n",
       "      <th></th>\n",
       "      <th></th>\n",
       "      <th></th>\n",
       "    </tr>\n",
       "  </thead>\n",
       "  <tbody>\n",
       "    <tr>\n",
       "      <th>50</th>\n",
       "      <td>0.130198</td>\n",
       "      <td>0.133435</td>\n",
       "      <td>0.292617</td>\n",
       "      <td>0.29185</td>\n",
       "      <td>0.608399</td>\n",
       "      <td>0.614047</td>\n",
       "      <td>0.408583</td>\n",
       "      <td>0.409166</td>\n",
       "      <td>7.909395</td>\n",
       "    </tr>\n",
       "  </tbody>\n",
       "</table>\n",
       "</div>"
      ],
      "text/plain": [
       "    Mean 2.5% quantile beta AR  Median 2.5% quantile beta AR  \\\n",
       "J                                                              \n",
       "50                    0.130198                      0.133435   \n",
       "\n",
       "    Mean 50% quantile beta AR  Median 50% quantile beta AR  \\\n",
       "J                                                            \n",
       "50                   0.292617                      0.29185   \n",
       "\n",
       "    Mean 97.5% quantile beta AR  Median 97.5% quantile beta AR  \\\n",
       "J                                                                \n",
       "50                     0.608399                       0.614047   \n",
       "\n",
       "    Mean Proportion of ZI Indicators  Mean True Proportion of ZI  \\\n",
       "J                                                                  \n",
       "50                          0.408583                    0.409166   \n",
       "\n",
       "    Mean Total Time (min)  \n",
       "J                          \n",
       "50               7.909395  "
      ]
     },
     "execution_count": 58,
     "metadata": {},
     "output_type": "execute_result"
    }
   ],
   "source": [
    "toAdd = evalData.loc[\"2.5% acceptance rate quantile for beta\"].describe().loc[[\"mean\", \"50%\"]]\n",
    "toAdd = pd.concat([toAdd, evalData.loc[\"50% acceptance rate quantile for beta\"].describe().loc[[\"mean\", \"50%\"]]], ignore_index=True)\n",
    "toAdd = pd.concat([toAdd, evalData.loc[\"97.5% acceptance rate quantile for beta\"].describe().loc[[\"mean\", \"50%\"]]], ignore_index=True)\n",
    "toAdd.loc[6] = evalData.loc[\"Proportion of zero indicators\"].describe().loc[\"mean\"]\n",
    "toAdd.loc[7] = evalData.loc[\"True proportion zero inflated\"].describe().loc[\"mean\"]\n",
    "toAdd.loc[8] = evalData.loc[\"Total time\"].div(60).describe().loc[\"mean\"]\n",
    "SampEval = toAdd.T\n",
    "SampEval.columns = [\"Mean 2.5% quantile beta AR\", \"Median 2.5% quantile beta AR\", \"Mean 50% quantile beta AR\", \"Median 50% quantile beta AR\",\n",
    "                   \"Mean 97.5% quantile beta AR\", \"Median 97.5% quantile beta AR\", \"Mean Proportion of ZI Indicators\", \"Mean True Proportion of ZI\",\n",
    "                   \"Mean Total Time (min)\"]\n",
    "SampEval.index = [\"50\"]\n",
    "SampEval.index.name = \"J\"\n",
    "SampEval"
   ]
  },
  {
   "cell_type": "markdown",
   "metadata": {},
   "source": [
    "#### Evaluation of the fit"
   ]
  },
  {
   "cell_type": "code",
   "execution_count": 59,
   "metadata": {},
   "outputs": [],
   "source": [
    "RAData = readInData(root, totalCoeffPerSeed = 550)"
   ]
  },
  {
   "cell_type": "code",
   "execution_count": 60,
   "metadata": {},
   "outputs": [],
   "source": [
    "RAData.columns = RAData.columns.str.strip()"
   ]
  },
  {
   "cell_type": "code",
   "execution_count": 61,
   "metadata": {},
   "outputs": [],
   "source": [
    "RADataInter = RAData[RAData['covariate'] == 'intercept'].sort_index(sort_remaining=False)\n",
    "RADataCov = RAData[RAData['covariate'] != 'intercept'].sort_index(sort_remaining=False)"
   ]
  },
  {
   "cell_type": "code",
   "execution_count": 62,
   "metadata": {},
   "outputs": [],
   "source": [
    "RAEval = getResults(RADataCov, None, \"RA 95 CI\", \"50/coef\")\n",
    "BetaEval = getResults(RADataCov, None, \"B(t) 95 CI\", \"50/coef\")\n",
    "RMSEEval = getResults(RADataCov, None, \"mean RMSE\", \"50/coef\")\n",
    "RAEval = getResults(RADataInter, RAEval, \"RA 95 CI\", \"50/inter\")\n",
    "BetaEval = getResults(RADataInter, BetaEval, \"B(t) 95 CI\", \"50/inter\")\n",
    "RMSEEval = getResults(RADataInter, RMSEEval, \"mean RMSE\", \"50/inter\")"
   ]
  },
  {
   "cell_type": "code",
   "execution_count": 63,
   "metadata": {},
   "outputs": [],
   "source": [
    "metrics = [\"B(t) 95 CI\", \"mean RMSE\", \"RA 95 CI\"]\n",
    "plotDat50 = RADataCov.loc[[1,2,3,4], [\"zero prop\"]+metrics].sort_values(\"zero prop\")"
   ]
  },
  {
   "cell_type": "markdown",
   "metadata": {
    "jp-MarkdownHeadingCollapsed": true
   },
   "source": [
    "### Medium\n",
    "\n",
    "- $N = 50$\n",
    "- $J = 250$"
   ]
  },
  {
   "cell_type": "code",
   "execution_count": 64,
   "metadata": {},
   "outputs": [],
   "source": [
    "root = \"FunCZIDM250/\"\n",
    "directories = [s for s in os.listdir(root) if os.path.isdir(root+s)]"
   ]
  },
  {
   "cell_type": "markdown",
   "metadata": {},
   "source": [
    "#### Evaluation of the sampling"
   ]
  },
  {
   "cell_type": "code",
   "execution_count": 65,
   "metadata": {},
   "outputs": [],
   "source": [
    "evalData = pd.read_csv(os.path.join(root, directories[0], \"eval\"+directories[0]+\".csv\"))\n",
    "evalData['seed'] = directories[0]\n",
    "\n",
    "for i in range(1, len(directories)):\n",
    "    toAppend = pd.read_csv(os.path.join(root, directories[i], \"eval\"+directories[i]+\".csv\"))\n",
    "    toAppend['seed'] = directories[i]\n",
    "    evalData = pd.concat([evalData, toAppend])\n",
    "\n",
    "evalData = evalData.set_index(['metric','seed'])"
   ]
  },
  {
   "cell_type": "code",
   "execution_count": 66,
   "metadata": {},
   "outputs": [],
   "source": [
    "toAdd = evalData.loc[\"2.5% acceptance rate quantile for beta\"].describe().loc[[\"mean\", \"50%\"]]\n",
    "toAdd = pd.concat([toAdd, evalData.loc[\"50% acceptance rate quantile for beta\"].describe().loc[[\"mean\", \"50%\"]]], ignore_index=True)\n",
    "toAdd = pd.concat([toAdd, evalData.loc[\"97.5% acceptance rate quantile for beta\"].describe().loc[[\"mean\", \"50%\"]]], ignore_index=True)\n",
    "toAdd.loc[6] = evalData.loc[\"Proportion of zero indicators\"].describe().loc[\"mean\"]\n",
    "toAdd.loc[7] = evalData.loc[\"True proportion zero inflated\"].describe().loc[\"mean\"]\n",
    "toAdd.loc[8] = evalData.loc[\"Total time\"].div(60).describe().loc[\"mean\"]\n",
    "toAdd = toAdd.T\n",
    "toAdd.columns = [\"Mean 2.5% quantile beta AR\", \"Median 2.5% quantile beta AR\", \"Mean 50% quantile beta AR\", \"Median 50% quantile beta AR\",\n",
    "                   \"Mean 97.5% quantile beta AR\", \"Median 97.5% quantile beta AR\", \"Mean Proportion of ZI Indicators\", \"Mean True Proportion of ZI\",\n",
    "                   \"Mean Total Time (min)\"]\n",
    "toAdd.index = [\"250\"]\n",
    "SampEval = pd.concat([SampEval, toAdd])"
   ]
  },
  {
   "cell_type": "markdown",
   "metadata": {},
   "source": [
    "#### Evaluation of the fit"
   ]
  },
  {
   "cell_type": "code",
   "execution_count": 67,
   "metadata": {},
   "outputs": [],
   "source": [
    "RAData = readInData(root, totalCoeffPerSeed = 2750)"
   ]
  },
  {
   "cell_type": "code",
   "execution_count": 68,
   "metadata": {},
   "outputs": [],
   "source": [
    "RAData.columns = RAData.columns.str.strip()"
   ]
  },
  {
   "cell_type": "code",
   "execution_count": 69,
   "metadata": {},
   "outputs": [],
   "source": [
    "toDrop = np.unique(RAData[RAData[\"mean RMSE\"] > 1e+02].index.get_level_values(1))\n",
    "toKeep = RAData.index.levels[1].difference(toDrop)\n",
    "RAData = RAData.loc[(slice(None), toKeep), :]"
   ]
  },
  {
   "cell_type": "code",
   "execution_count": 70,
   "metadata": {},
   "outputs": [],
   "source": [
    "RADataInter = RAData[RAData['covariate'] == 'intercept'].sort_index(sort_remaining=False)\n",
    "RADataCov = RAData[RAData['covariate'] != 'intercept'].sort_index(sort_remaining=False)"
   ]
  },
  {
   "cell_type": "code",
   "execution_count": 71,
   "metadata": {},
   "outputs": [
    {
     "data": {
      "text/plain": [
       "array([], dtype=object)"
      ]
     },
     "execution_count": 71,
     "metadata": {},
     "output_type": "execute_result"
    }
   ],
   "source": [
    "toDrop"
   ]
  },
  {
   "cell_type": "code",
   "execution_count": 72,
   "metadata": {},
   "outputs": [],
   "source": [
    "RAEval = getResults(RADataCov, RAEval, \"RA 95 CI\", \"250/coef\")\n",
    "BetaEval = getResults(RADataCov, BetaEval, \"B(t) 95 CI\", \"250/coef\")\n",
    "RMSEEval = getResults(RADataCov, RMSEEval, \"mean RMSE\", \"250/coef\")\n",
    "RAEval = getResults(RADataInter, RAEval, \"RA 95 CI\", \"250/inter\")\n",
    "BetaEval = getResults(RADataInter, BetaEval, \"B(t) 95 CI\", \"250/inter\")\n",
    "RMSEEval = getResults(RADataInter, RMSEEval, \"mean RMSE\", \"250/inter\")"
   ]
  },
  {
   "cell_type": "code",
   "execution_count": 73,
   "metadata": {},
   "outputs": [],
   "source": [
    "metrics = [\"B(t) 95 CI\", \"mean RMSE\", \"RA 95 CI\"]\n",
    "plotDat250 = RADataCov.loc[[1,2,3,4], [\"zero prop\"]+metrics].sort_values(\"zero prop\")"
   ]
  },
  {
   "cell_type": "markdown",
   "metadata": {},
   "source": [
    "### Large\n",
    "\n",
    "- $N = 50$\n",
    "- $J = 500$"
   ]
  },
  {
   "cell_type": "code",
   "execution_count": 74,
   "metadata": {},
   "outputs": [],
   "source": [
    "root = \"FunCZIDM500/\"\n",
    "directories = [s for s in os.listdir(root) if os.path.isdir(root+s)]"
   ]
  },
  {
   "cell_type": "markdown",
   "metadata": {},
   "source": [
    "#### Evaluation of the sampling"
   ]
  },
  {
   "cell_type": "code",
   "execution_count": 75,
   "metadata": {},
   "outputs": [],
   "source": [
    "evalData = pd.read_csv(os.path.join(root, directories[0], \"eval\"+directories[0]+\".csv\"))\n",
    "evalData['seed'] = directories[0]\n",
    "\n",
    "for i in range(1, len(directories)):\n",
    "    toAppend = pd.read_csv(os.path.join(root, directories[i], \"eval\"+directories[i]+\".csv\"))\n",
    "    toAppend['seed'] = directories[i]\n",
    "    evalData = pd.concat([evalData, toAppend])\n",
    "\n",
    "evalData = evalData.set_index(['metric','seed'])"
   ]
  },
  {
   "cell_type": "code",
   "execution_count": 76,
   "metadata": {},
   "outputs": [],
   "source": [
    "toAdd = evalData.loc[\"2.5% acceptance rate quantile for beta\"].describe().loc[[\"mean\", \"50%\"]]\n",
    "toAdd = pd.concat([toAdd, evalData.loc[\"50% acceptance rate quantile for beta\"].describe().loc[[\"mean\", \"50%\"]]], ignore_index=True)\n",
    "toAdd = pd.concat([toAdd, evalData.loc[\"97.5% acceptance rate quantile for beta\"].describe().loc[[\"mean\", \"50%\"]]], ignore_index=True)\n",
    "toAdd.loc[6] = evalData.loc[\"Proportion of zero indicators\"].describe().loc[\"mean\"]\n",
    "toAdd.loc[7] = evalData.loc[\"True proportion zero inflated\"].describe().loc[\"mean\"]\n",
    "toAdd.loc[8] = evalData.loc[\"Total time\"].div(60).describe().loc[\"mean\"]\n",
    "toAdd = toAdd.T\n",
    "toAdd.columns = [\"Mean 2.5% quantile beta AR\", \"Median 2.5% quantile beta AR\", \"Mean 50% quantile beta AR\", \"Median 50% quantile beta AR\",\n",
    "                   \"Mean 97.5% quantile beta AR\", \"Median 97.5% quantile beta AR\", \"Mean Proportion of ZI Indicators\", \"Mean True Proportion of ZI\",\n",
    "                   \"Mean Total Time (min)\"]\n",
    "toAdd.index = [\"500\"]\n",
    "SampEval = pd.concat([SampEval, toAdd])"
   ]
  },
  {
   "cell_type": "markdown",
   "metadata": {},
   "source": [
    "#### Evaluation of the fit"
   ]
  },
  {
   "cell_type": "code",
   "execution_count": 77,
   "metadata": {},
   "outputs": [],
   "source": [
    "RAData = readInData(root, totalCoeffPerSeed = 5500)"
   ]
  },
  {
   "cell_type": "code",
   "execution_count": 78,
   "metadata": {},
   "outputs": [],
   "source": [
    "RAData.columns = RAData.columns.str.strip()"
   ]
  },
  {
   "cell_type": "code",
   "execution_count": 79,
   "metadata": {},
   "outputs": [],
   "source": [
    "toDrop = np.unique(RAData[RAData[\"mean RMSE\"] > 1e+02].index.get_level_values(1))\n",
    "toKeep = RAData.index.levels[1].difference(toDrop)\n",
    "RAData = RAData.loc[(slice(None), toKeep), :]"
   ]
  },
  {
   "cell_type": "code",
   "execution_count": 80,
   "metadata": {},
   "outputs": [
    {
     "data": {
      "text/plain": [
       "array([], dtype=object)"
      ]
     },
     "execution_count": 80,
     "metadata": {},
     "output_type": "execute_result"
    }
   ],
   "source": [
    "toDrop"
   ]
  },
  {
   "cell_type": "code",
   "execution_count": 81,
   "metadata": {},
   "outputs": [],
   "source": [
    "RADataInter = RAData[RAData['covariate'] == 'intercept'].sort_index(sort_remaining=False)\n",
    "RADataCov = RAData[RAData['covariate'] != 'intercept'].sort_index(sort_remaining=False)"
   ]
  },
  {
   "cell_type": "code",
   "execution_count": 82,
   "metadata": {},
   "outputs": [],
   "source": [
    "RAEval = getResults(RADataCov, RAEval, \"RA 95 CI\", \"500/coef\")\n",
    "BetaEval = getResults(RADataCov, BetaEval, \"B(t) 95 CI\", \"500/coef\")\n",
    "RMSEEval = getResults(RADataCov, RMSEEval, \"mean RMSE\", \"500/coef\")\n",
    "RAEval = getResults(RADataInter, RAEval, \"RA 95 CI\", \"500/inter\")\n",
    "BetaEval = getResults(RADataInter, BetaEval, \"B(t) 95 CI\", \"500/inter\")\n",
    "RMSEEval = getResults(RADataInter, RMSEEval, \"mean RMSE\", \"500/inter\")"
   ]
  },
  {
   "cell_type": "code",
   "execution_count": 83,
   "metadata": {},
   "outputs": [],
   "source": [
    "metrics = [\"B(t) 95 CI\", \"mean RMSE\", \"RA 95 CI\"]\n",
    "plotDat500 = RADataCov.loc[[1,2,3,4], [\"zero prop\"]+metrics].sort_values(\"zero prop\")"
   ]
  },
  {
   "cell_type": "markdown",
   "metadata": {},
   "source": [
    "### Extra Large\n",
    "\n",
    "- $N = 50$\n",
    "- $J = 1000$"
   ]
  },
  {
   "cell_type": "code",
   "execution_count": 84,
   "metadata": {},
   "outputs": [],
   "source": [
    "root = \"FunCZIDM1000/\"\n",
    "directories = [s for s in os.listdir(root) if os.path.isdir(root+s)]"
   ]
  },
  {
   "cell_type": "markdown",
   "metadata": {},
   "source": [
    "#### Evaluation of the sampling"
   ]
  },
  {
   "cell_type": "code",
   "execution_count": 85,
   "metadata": {},
   "outputs": [],
   "source": [
    "evalData = pd.read_csv(os.path.join(root, directories[0], \"eval\"+directories[0]+\".csv\"))\n",
    "evalData['seed'] = directories[0]\n",
    "\n",
    "for i in range(1, len(directories)):\n",
    "    toAppend = pd.read_csv(os.path.join(root, directories[i], \"eval\"+directories[i]+\".csv\"))\n",
    "    toAppend['seed'] = directories[i]\n",
    "    evalData = pd.concat([evalData, toAppend])\n",
    "\n",
    "evalData = evalData.set_index(['metric','seed'])"
   ]
  },
  {
   "cell_type": "code",
   "execution_count": 86,
   "metadata": {},
   "outputs": [],
   "source": [
    "toAdd = evalData.loc[\"2.5% acceptance rate quantile for beta\"].describe().loc[[\"mean\", \"50%\"]]\n",
    "toAdd = pd.concat([toAdd, evalData.loc[\"50% acceptance rate quantile for beta\"].describe().loc[[\"mean\", \"50%\"]]], ignore_index=True)\n",
    "toAdd = pd.concat([toAdd, evalData.loc[\"97.5% acceptance rate quantile for beta\"].describe().loc[[\"mean\", \"50%\"]]], ignore_index=True)\n",
    "toAdd.loc[6] = evalData.loc[\"Proportion of zero indicators\"].describe().loc[\"mean\"]\n",
    "toAdd.loc[7] = evalData.loc[\"True proportion zero inflated\"].describe().loc[\"mean\"]\n",
    "toAdd.loc[8] = evalData.loc[\"Total time\"].div(60).describe().loc[\"mean\"]\n",
    "toAdd = toAdd.T\n",
    "toAdd.columns = [\"Mean 2.5% quantile beta AR\", \"Median 2.5% quantile beta AR\", \"Mean 50% quantile beta AR\", \"Median 50% quantile beta AR\",\n",
    "                   \"Mean 97.5% quantile beta AR\", \"Median 97.5% quantile beta AR\", \"Mean Proportion of ZI Indicators\", \"Mean True Proportion of ZI\",\n",
    "                   \"Mean Total Time (min)\"]\n",
    "toAdd.index = [\"1000\"]\n",
    "SampEval = pd.concat([SampEval, toAdd])"
   ]
  },
  {
   "cell_type": "markdown",
   "metadata": {},
   "source": [
    "#### Evaluation of the fit"
   ]
  },
  {
   "cell_type": "code",
   "execution_count": 87,
   "metadata": {},
   "outputs": [],
   "source": [
    "RAData = readInData(root, totalCoeffPerSeed = 11000)"
   ]
  },
  {
   "cell_type": "code",
   "execution_count": 88,
   "metadata": {},
   "outputs": [],
   "source": [
    "RAData.columns = RAData.columns.str.strip()"
   ]
  },
  {
   "cell_type": "code",
   "execution_count": 89,
   "metadata": {},
   "outputs": [],
   "source": [
    "toDrop = np.unique(RAData[RAData[\"mean RMSE\"] > 1e+02].index.get_level_values(1))\n",
    "toKeep = RAData.index.levels[1].difference(toDrop)\n",
    "RAData = RAData.loc[(slice(None), toKeep), :]"
   ]
  },
  {
   "cell_type": "code",
   "execution_count": 90,
   "metadata": {},
   "outputs": [
    {
     "data": {
      "text/plain": [
       "array([], dtype=object)"
      ]
     },
     "execution_count": 90,
     "metadata": {},
     "output_type": "execute_result"
    }
   ],
   "source": [
    "toDrop"
   ]
  },
  {
   "cell_type": "code",
   "execution_count": 91,
   "metadata": {},
   "outputs": [],
   "source": [
    "RADataInter = RAData[RAData['covariate'] == 'intercept'].sort_index(sort_remaining=False)\n",
    "RADataCov = RAData[RAData['covariate'] != 'intercept'].sort_index(sort_remaining=False)"
   ]
  },
  {
   "cell_type": "code",
   "execution_count": 92,
   "metadata": {},
   "outputs": [],
   "source": [
    "RAEval = getResults(RADataCov, RAEval, \"RA 95 CI\", \"1000/coef\")\n",
    "BetaEval = getResults(RADataCov, BetaEval, \"B(t) 95 CI\", \"1000/coef\")\n",
    "RMSEEval = getResults(RADataCov, RMSEEval, \"mean RMSE\", \"1000/coef\")\n",
    "RAEval = getResults(RADataInter, RAEval, \"RA 95 CI\", \"1000/inter\")\n",
    "BetaEval = getResults(RADataInter, BetaEval, \"B(t) 95 CI\", \"1000/inter\")\n",
    "RMSEEval = getResults(RADataInter, RMSEEval, \"mean RMSE\", \"1000/inter\")"
   ]
  },
  {
   "cell_type": "code",
   "execution_count": 93,
   "metadata": {},
   "outputs": [],
   "source": [
    "metrics = [\"B(t) 95 CI\", \"mean RMSE\", \"RA 95 CI\"]\n",
    "plotDat1000 = RADataCov.loc[[1,2,3,4], [\"zero prop\"]+metrics].sort_values(\"zero prop\")"
   ]
  },
  {
   "cell_type": "markdown",
   "metadata": {},
   "source": [
    "## Scalability Results"
   ]
  },
  {
   "cell_type": "code",
   "execution_count": 94,
   "metadata": {},
   "outputs": [
    {
     "data": {
      "image/png": "[encoded data removed]",
      "text/plain": [
       "<Figure size 1800x720 with 2 Axes>"
      ]
     },
     "metadata": {
      "needs_background": "light"
     },
     "output_type": "display_data"
    }
   ],
   "source": [
    "fig, axes = plt.subplots(1, 2, figsize=(25, 10))\n",
    "axes = axes.flatten() \n",
    "\n",
    "window = 750\n",
    "std = (window - 1)/6\n",
    "fontsize = 25\n",
    "\n",
    "x = plotDat50[\"zero prop\"]\n",
    "y = plotDat50[metrics].rolling(window=window, win_type='gaussian', center=True).mean(std=std)\n",
    "axes[0].plot(x, y[\"mean RMSE\"], label=\"50\", linestyle=\"-\", linewidth=3) \n",
    "x = plotDat250[\"zero prop\"]\n",
    "y = plotDat250[metrics].rolling(window=window, win_type='gaussian', center=True).mean(std=std)\n",
    "axes[0].plot(x, y[\"mean RMSE\"], label=\"250\", linestyle=\"--\", linewidth=3) \n",
    "x = plotDat500[\"zero prop\"]\n",
    "y = plotDat500[metrics].rolling(window=window, win_type='gaussian', center=True).mean(std=std)\n",
    "axes[0].plot(x, y[\"mean RMSE\"], label=\"500\", linestyle=\":\", linewidth=3) \n",
    "x = plotDat1000[\"zero prop\"]\n",
    "y = plotDat1000[metrics].rolling(window=window, win_type='gaussian', center=True).mean(std=std)\n",
    "axes[0].plot(x, y[\"mean RMSE\"], label=\"1000\", linestyle=\"-.\", linewidth=3) \n",
    "axes[0].set_title(\"Active ARMSE Moving Average Over ZI Levels\", fontsize=30) \n",
    "axes[0].set_xlabel(\"ZI Proportion\", fontsize=fontsize)  \n",
    "axes[0].set_ylabel(\"Average Root Mean Squared Error (ARMSE)\", fontsize=fontsize)\n",
    "axes[0].set_ylim([0, .57]) # ZIDM max is ~.56, keeping the same for size reference\n",
    "axes[0].tick_params(labelsize=fontsize)\n",
    "axes[0].grid(linestyle='--')\n",
    "\n",
    "x = plotDat50[\"zero prop\"]\n",
    "y = plotDat50[metrics].rolling(window=window, win_type='gaussian', center=True).mean(std=std)\n",
    "axes[1].plot(x, y[\"RA 95 CI\"], label=\"50\", linestyle=\"-\", linewidth=3) \n",
    "x = plotDat250[\"zero prop\"]\n",
    "y = plotDat250[metrics].rolling(window=window, win_type='gaussian', center=True).mean(std=std)\n",
    "axes[1].plot(x, y[\"RA 95 CI\"], label=\"250\", linestyle=\"--\", linewidth=3) \n",
    "x = plotDat500[\"zero prop\"]\n",
    "y = plotDat500[metrics].rolling(window=window, win_type='gaussian', center=True).mean(std=std)\n",
    "axes[1].plot(x, y[\"RA 95 CI\"], label=\"500\", linestyle=\":\", linewidth=3) \n",
    "x = plotDat1000[\"zero prop\"]\n",
    "y = plotDat1000[metrics].rolling(window=window, win_type='gaussian', center=True).mean(std=std)\n",
    "axes[1].plot(x, y[\"RA 95 CI\"], label=\"1000\", linestyle=\"-.\", linewidth=3) \n",
    "axes[1].set_ylim([.85, 1])\n",
    "axes[1].set_title(\"Active RA95 Moving Average Over ZI Levels\", fontsize=30) \n",
    "axes[1].set_xlabel(\"ZI Proportion\", fontsize=fontsize)  \n",
    "axes[1].set_ylabel(\"Interval Coverage of $\\Delta_1$RA$_{jp}(t)$ (RA95)\", fontsize=fontsize)\n",
    "axes[1].tick_params(labelsize=fontsize)\n",
    "axes[1].grid(linestyle='--')\n",
    "\n",
    "handles, labels = axes[0].get_legend_handles_labels()\n",
    "fig.legend(handles, labels, title=\"Number of Taxa\", loc=\"lower center\", bbox_to_anchor=(0.51, -0.06), ncol=5, fontsize=fontsize, title_fontsize=fontsize)\n",
    "plt.savefig(\"RA95andARMSEMovingAveScalability.png\", bbox_inches=\"tight\")"
   ]
  },
  {
   "cell_type": "code",
   "execution_count": 95,
   "metadata": {},
   "outputs": [
    {
     "data": {
      "text/html": [
       "<div>\n",
       "<style scoped>\n",
       "    .dataframe tbody tr th:only-of-type {\n",
       "        vertical-align: middle;\n",
       "    }\n",
       "\n",
       "    .dataframe tbody tr th {\n",
       "        vertical-align: top;\n",
       "    }\n",
       "\n",
       "    .dataframe thead th {\n",
       "        text-align: right;\n",
       "    }\n",
       "</style>\n",
       "<table border=\"1\" class=\"dataframe\">\n",
       "  <thead>\n",
       "    <tr style=\"text-align: right;\">\n",
       "      <th></th>\n",
       "      <th>Mean mean RMSE Cat 1-4</th>\n",
       "      <th>Median mean RMSE Cat 1-4</th>\n",
       "      <th>Mean mean RMSE Cat 5-50</th>\n",
       "      <th>Median mean RMSE Cat 5-50</th>\n",
       "    </tr>\n",
       "  </thead>\n",
       "  <tbody>\n",
       "    <tr>\n",
       "      <th>50/coef</th>\n",
       "      <td>0.190273</td>\n",
       "      <td>0.158457</td>\n",
       "      <td>0.046149</td>\n",
       "      <td>0.038388</td>\n",
       "    </tr>\n",
       "    <tr>\n",
       "      <th>50/inter</th>\n",
       "      <td>0.007301</td>\n",
       "      <td>0.006081</td>\n",
       "      <td>0.007238</td>\n",
       "      <td>0.005944</td>\n",
       "    </tr>\n",
       "    <tr>\n",
       "      <th>250/coef</th>\n",
       "      <td>0.197093</td>\n",
       "      <td>0.163417</td>\n",
       "      <td>0.042816</td>\n",
       "      <td>0.034454</td>\n",
       "    </tr>\n",
       "    <tr>\n",
       "      <th>250/inter</th>\n",
       "      <td>0.001541</td>\n",
       "      <td>0.001227</td>\n",
       "      <td>0.001382</td>\n",
       "      <td>0.001108</td>\n",
       "    </tr>\n",
       "    <tr>\n",
       "      <th>500/coef</th>\n",
       "      <td>0.198268</td>\n",
       "      <td>0.161526</td>\n",
       "      <td>0.043176</td>\n",
       "      <td>0.034693</td>\n",
       "    </tr>\n",
       "    <tr>\n",
       "      <th>500/inter</th>\n",
       "      <td>0.000739</td>\n",
       "      <td>0.000604</td>\n",
       "      <td>0.000681</td>\n",
       "      <td>0.000551</td>\n",
       "    </tr>\n",
       "    <tr>\n",
       "      <th>1000/coef</th>\n",
       "      <td>0.201387</td>\n",
       "      <td>0.166970</td>\n",
       "      <td>0.043683</td>\n",
       "      <td>0.034776</td>\n",
       "    </tr>\n",
       "    <tr>\n",
       "      <th>1000/inter</th>\n",
       "      <td>0.000373</td>\n",
       "      <td>0.000312</td>\n",
       "      <td>0.000315</td>\n",
       "      <td>0.000257</td>\n",
       "    </tr>\n",
       "  </tbody>\n",
       "</table>\n",
       "</div>"
      ],
      "text/plain": [
       "            Mean mean RMSE Cat 1-4  Median mean RMSE Cat 1-4  \\\n",
       "50/coef                   0.190273                  0.158457   \n",
       "50/inter                  0.007301                  0.006081   \n",
       "250/coef                  0.197093                  0.163417   \n",
       "250/inter                 0.001541                  0.001227   \n",
       "500/coef                  0.198268                  0.161526   \n",
       "500/inter                 0.000739                  0.000604   \n",
       "1000/coef                 0.201387                  0.166970   \n",
       "1000/inter                0.000373                  0.000312   \n",
       "\n",
       "            Mean mean RMSE Cat 5-50  Median mean RMSE Cat 5-50  \n",
       "50/coef                    0.046149                   0.038388  \n",
       "50/inter                   0.007238                   0.005944  \n",
       "250/coef                   0.042816                   0.034454  \n",
       "250/inter                  0.001382                   0.001108  \n",
       "500/coef                   0.043176                   0.034693  \n",
       "500/inter                  0.000681                   0.000551  \n",
       "1000/coef                  0.043683                   0.034776  \n",
       "1000/inter                 0.000315                   0.000257  "
      ]
     },
     "execution_count": 95,
     "metadata": {},
     "output_type": "execute_result"
    }
   ],
   "source": [
    "RMSEEval"
   ]
  },
  {
   "cell_type": "code",
   "execution_count": 96,
   "metadata": {},
   "outputs": [
    {
     "data": {
      "text/html": [
       "<div>\n",
       "<style scoped>\n",
       "    .dataframe tbody tr th:only-of-type {\n",
       "        vertical-align: middle;\n",
       "    }\n",
       "\n",
       "    .dataframe tbody tr th {\n",
       "        vertical-align: top;\n",
       "    }\n",
       "\n",
       "    .dataframe thead th {\n",
       "        text-align: right;\n",
       "    }\n",
       "</style>\n",
       "<table border=\"1\" class=\"dataframe\">\n",
       "  <thead>\n",
       "    <tr style=\"text-align: right;\">\n",
       "      <th></th>\n",
       "      <th>Mean B(t) 95 CI Cat 1-4</th>\n",
       "      <th>Median B(t) 95 CI Cat 1-4</th>\n",
       "      <th>Mean B(t) 95 CI Cat 5-50</th>\n",
       "      <th>Median B(t) 95 CI Cat 5-50</th>\n",
       "    </tr>\n",
       "  </thead>\n",
       "  <tbody>\n",
       "    <tr>\n",
       "      <th>50/coef</th>\n",
       "      <td>0.934773</td>\n",
       "      <td>1.0</td>\n",
       "      <td>0.998702</td>\n",
       "      <td>1.0</td>\n",
       "    </tr>\n",
       "    <tr>\n",
       "      <th>50/inter</th>\n",
       "      <td>0.964200</td>\n",
       "      <td>1.0</td>\n",
       "      <td>0.982763</td>\n",
       "      <td>1.0</td>\n",
       "    </tr>\n",
       "    <tr>\n",
       "      <th>250/coef</th>\n",
       "      <td>0.936437</td>\n",
       "      <td>1.0</td>\n",
       "      <td>0.998716</td>\n",
       "      <td>1.0</td>\n",
       "    </tr>\n",
       "    <tr>\n",
       "      <th>250/inter</th>\n",
       "      <td>0.976925</td>\n",
       "      <td>1.0</td>\n",
       "      <td>0.981178</td>\n",
       "      <td>1.0</td>\n",
       "    </tr>\n",
       "    <tr>\n",
       "      <th>500/coef</th>\n",
       "      <td>0.932055</td>\n",
       "      <td>1.0</td>\n",
       "      <td>0.998627</td>\n",
       "      <td>1.0</td>\n",
       "    </tr>\n",
       "    <tr>\n",
       "      <th>500/inter</th>\n",
       "      <td>0.988200</td>\n",
       "      <td>1.0</td>\n",
       "      <td>0.979578</td>\n",
       "      <td>1.0</td>\n",
       "    </tr>\n",
       "    <tr>\n",
       "      <th>1000/coef</th>\n",
       "      <td>0.935682</td>\n",
       "      <td>1.0</td>\n",
       "      <td>0.998650</td>\n",
       "      <td>1.0</td>\n",
       "    </tr>\n",
       "    <tr>\n",
       "      <th>1000/inter</th>\n",
       "      <td>0.974400</td>\n",
       "      <td>1.0</td>\n",
       "      <td>0.973943</td>\n",
       "      <td>1.0</td>\n",
       "    </tr>\n",
       "  </tbody>\n",
       "</table>\n",
       "</div>"
      ],
      "text/plain": [
       "            Mean B(t) 95 CI Cat 1-4  Median B(t) 95 CI Cat 1-4  \\\n",
       "50/coef                    0.934773                        1.0   \n",
       "50/inter                   0.964200                        1.0   \n",
       "250/coef                   0.936437                        1.0   \n",
       "250/inter                  0.976925                        1.0   \n",
       "500/coef                   0.932055                        1.0   \n",
       "500/inter                  0.988200                        1.0   \n",
       "1000/coef                  0.935682                        1.0   \n",
       "1000/inter                 0.974400                        1.0   \n",
       "\n",
       "            Mean B(t) 95 CI Cat 5-50  Median B(t) 95 CI Cat 5-50  \n",
       "50/coef                     0.998702                         1.0  \n",
       "50/inter                    0.982763                         1.0  \n",
       "250/coef                    0.998716                         1.0  \n",
       "250/inter                   0.981178                         1.0  \n",
       "500/coef                    0.998627                         1.0  \n",
       "500/inter                   0.979578                         1.0  \n",
       "1000/coef                   0.998650                         1.0  \n",
       "1000/inter                  0.973943                         1.0  "
      ]
     },
     "execution_count": 96,
     "metadata": {},
     "output_type": "execute_result"
    }
   ],
   "source": [
    "BetaEval"
   ]
  },
  {
   "cell_type": "code",
   "execution_count": 97,
   "metadata": {},
   "outputs": [
    {
     "data": {
      "text/html": [
       "<div>\n",
       "<style scoped>\n",
       "    .dataframe tbody tr th:only-of-type {\n",
       "        vertical-align: middle;\n",
       "    }\n",
       "\n",
       "    .dataframe tbody tr th {\n",
       "        vertical-align: top;\n",
       "    }\n",
       "\n",
       "    .dataframe thead th {\n",
       "        text-align: right;\n",
       "    }\n",
       "</style>\n",
       "<table border=\"1\" class=\"dataframe\">\n",
       "  <thead>\n",
       "    <tr style=\"text-align: right;\">\n",
       "      <th></th>\n",
       "      <th>Mean RA 95 CI Cat 1-4</th>\n",
       "      <th>Median RA 95 CI Cat 1-4</th>\n",
       "      <th>Mean RA 95 CI Cat 5-50</th>\n",
       "      <th>Median RA 95 CI Cat 5-50</th>\n",
       "    </tr>\n",
       "  </thead>\n",
       "  <tbody>\n",
       "    <tr>\n",
       "      <th>50/coef</th>\n",
       "      <td>0.935615</td>\n",
       "      <td>1.0</td>\n",
       "      <td>0.998061</td>\n",
       "      <td>1.0</td>\n",
       "    </tr>\n",
       "    <tr>\n",
       "      <th>50/inter</th>\n",
       "      <td>0.968750</td>\n",
       "      <td>1.0</td>\n",
       "      <td>0.985959</td>\n",
       "      <td>1.0</td>\n",
       "    </tr>\n",
       "    <tr>\n",
       "      <th>250/coef</th>\n",
       "      <td>0.936590</td>\n",
       "      <td>1.0</td>\n",
       "      <td>0.998551</td>\n",
       "      <td>1.0</td>\n",
       "    </tr>\n",
       "    <tr>\n",
       "      <th>250/inter</th>\n",
       "      <td>0.977600</td>\n",
       "      <td>1.0</td>\n",
       "      <td>0.979707</td>\n",
       "      <td>1.0</td>\n",
       "    </tr>\n",
       "    <tr>\n",
       "      <th>500/coef</th>\n",
       "      <td>0.932110</td>\n",
       "      <td>1.0</td>\n",
       "      <td>0.998529</td>\n",
       "      <td>1.0</td>\n",
       "    </tr>\n",
       "    <tr>\n",
       "      <th>500/inter</th>\n",
       "      <td>0.987275</td>\n",
       "      <td>1.0</td>\n",
       "      <td>0.978352</td>\n",
       "      <td>1.0</td>\n",
       "    </tr>\n",
       "    <tr>\n",
       "      <th>1000/coef</th>\n",
       "      <td>0.935437</td>\n",
       "      <td>1.0</td>\n",
       "      <td>0.998641</td>\n",
       "      <td>1.0</td>\n",
       "    </tr>\n",
       "    <tr>\n",
       "      <th>1000/inter</th>\n",
       "      <td>0.977125</td>\n",
       "      <td>1.0</td>\n",
       "      <td>0.972304</td>\n",
       "      <td>1.0</td>\n",
       "    </tr>\n",
       "  </tbody>\n",
       "</table>\n",
       "</div>"
      ],
      "text/plain": [
       "            Mean RA 95 CI Cat 1-4  Median RA 95 CI Cat 1-4  \\\n",
       "50/coef                  0.935615                      1.0   \n",
       "50/inter                 0.968750                      1.0   \n",
       "250/coef                 0.936590                      1.0   \n",
       "250/inter                0.977600                      1.0   \n",
       "500/coef                 0.932110                      1.0   \n",
       "500/inter                0.987275                      1.0   \n",
       "1000/coef                0.935437                      1.0   \n",
       "1000/inter               0.977125                      1.0   \n",
       "\n",
       "            Mean RA 95 CI Cat 5-50  Median RA 95 CI Cat 5-50  \n",
       "50/coef                   0.998061                       1.0  \n",
       "50/inter                  0.985959                       1.0  \n",
       "250/coef                  0.998551                       1.0  \n",
       "250/inter                 0.979707                       1.0  \n",
       "500/coef                  0.998529                       1.0  \n",
       "500/inter                 0.978352                       1.0  \n",
       "1000/coef                 0.998641                       1.0  \n",
       "1000/inter                0.972304                       1.0  "
      ]
     },
     "execution_count": 97,
     "metadata": {},
     "output_type": "execute_result"
    }
   ],
   "source": [
    "RAEval"
   ]
  }
 ],
 "metadata": {
  "kernelspec": {
   "display_name": "Python 3",
   "language": "python",
   "name": "python3"
  },
  "language_info": {
   "codemirror_mode": {
    "name": "ipython",
    "version": 3
   },
   "file_extension": ".py",
   "mimetype": "text/x-python",
   "name": "python",
   "nbconvert_exporter": "python",
   "pygments_lexer": "ipython3",
   "version": "3.8.5"
  }
 },
 "nbformat": 4,
 "nbformat_minor": 5
}
